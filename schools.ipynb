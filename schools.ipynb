{
 "cells": [
  {
   "cell_type": "markdown",
   "metadata": {},
   "source": [
    "# IMAGE PROCESSING #\n",
    "\n",
    "1. Import Texas School geo data\n",
    "2. Create 30cm TIF file for each school in Austin ISD\n",
    "3. ZERO SHOT BUILDING DETECTION (completed in another Studio)\n",
    "4. Get TIF for each bounding box of the buildings detected"
   ]
  },
  {
   "cell_type": "code",
   "execution_count": 1,
   "metadata": {},
   "outputs": [],
   "source": [
    "import os\n",
    "import numpy as np\n",
    "import pandas as pd\n",
    "from PIL import Image\n",
    "import geopandas as gpd\n",
    "from tqdm.auto import tqdm\n",
    "import leafmap"
   ]
  },
  {
   "cell_type": "markdown",
   "metadata": {},
   "source": [
    "Filter Texas School Data - currenlty focused on Austin ISD"
   ]
  },
  {
   "cell_type": "code",
   "execution_count": null,
   "metadata": {},
   "outputs": [],
   "source": [
    "schools_geo = gpd.read_file('data/school_geocodes.geojson')\n",
    "schools = pd.read_csv('data/tx_schools.csv', index_col=0)\n",
    "schools = pd.concat([schools_geo, schools], axis=1)\n"
   ]
  },
  {
   "cell_type": "code",
   "execution_count": 4,
   "metadata": {},
   "outputs": [],
   "source": [
    "gdf_aisd = schools[schools['School District'] == 'Austin ISD'].copy().reset_index(drop=True)\n",
    "# gdf_todo = gdf_aisd.iloc[gdf_aisd[gdf_aisd['School Name'] == 'Bryker Woods Elem'].index[0]:]"
   ]
  },
  {
   "cell_type": "markdown",
   "metadata": {},
   "source": [
    "Generate TIF files for each school"
   ]
  },
  {
   "cell_type": "code",
   "execution_count": null,
   "metadata": {},
   "outputs": [],
   "source": [
    "one_drive_path = 'C:\\\\Users\\\\Ryan.Skene\\\\OneDrive - HTS Engineering Ltd\\\\Documents\\Operation Rooftop\\\\Data\\\\School Images'"
   ]
  },
  {
   "cell_type": "code",
   "execution_count": null,
   "metadata": {},
   "outputs": [],
   "source": [
    "bbox_scaler = np.array([-0.00326218, -0.0018414 ,  0.00233782,  0.0020586 ])\n",
    "for i, school in gdf_aisd.iterrows():\n",
    "    tif_filename = f'{school[\"School Name\"]}.tif'\n",
    "    center = school.geometry.centroid.coords[0]\n",
    "\n",
    "    bbox = (np.array(bbox_scaler) + np.repeat(np.array(center).reshape(1,2), 2, axis=0).flatten()).tolist()\n",
    "    leafmap.map_tiles_to_geotiff(\n",
    "        output=os.path.join(one_drive_path, tif_filename), bbox=bbox, resolution=.03, source=\"Satellite\", overwrite=True\n",
    "    )\n",
    "\n",
    "\"\"\"\n",
    "Visualize the location\n",
    "\"\"\"\n",
    "# m = leafmap.Map(center=center[::-1], zoom=18, height=\"800px\")\n",
    "# m.add_basemap('SATELLITE')"
   ]
  },
  {
   "cell_type": "markdown",
   "metadata": {},
   "source": [
    "Generate TIF files for each building located in each school (this is achieved using geosam in another studio)"
   ]
  },
  {
   "cell_type": "code",
   "execution_count": 3,
   "metadata": {},
   "outputs": [],
   "source": [
    "geojsons = [f for f in os.listdir('../geosam/data') if f.endswith('.geojson')]"
   ]
  },
  {
   "cell_type": "code",
   "execution_count": 11,
   "metadata": {},
   "outputs": [],
   "source": [
    "def tif_to_png(file_path, tif_file):\n",
    "  tiff_image = Image.open(os.path.join(file_path, 'tif', tif_file))\n",
    "\n",
    "  # Convert the image to JPEG format\n",
    "  jpeg_image = tiff_image.convert('RGB')\n",
    "\n",
    "  # Save the JPEG image\n",
    "  jpeg_image.save(os.path.join(file_path, 'png', tif_file.replace('.tif', '.png')))"
   ]
  },
  {
   "cell_type": "code",
   "execution_count": null,
   "metadata": {},
   "outputs": [],
   "source": [
    "for geojson in tqdm(geojsons):\n",
    "    if not 'Akins' in geojson:\n",
    "        gdf = gpd.GeoDataFrame.from_file(os.path.join('../geosam/data', geojson))\n",
    "        school_name = geojson.split('_')[0]\n",
    "        school_path = os.path.join('data', 'images', school_name)\n",
    "        os.makedirs(os.path.join(school_path, 'tif'), exist_ok=True)\n",
    "        os.makedirs(os.path.join(school_path, 'png'), exist_ok=True)\n",
    "        for i, bounds in tqdm(gdf.bounds.iterrows()):\n",
    "            tif_filename = f'{school_name} Building {i}.tif'\n",
    "            bbox = bounds.values.tolist()\n",
    "\n",
    "            leafmap.map_tiles_to_geotiff(\n",
    "                output=os.path.join(school_path, 'tif', tif_filename), bbox=bbox, resolution=.03, source=\"Satellite\", overwrite=True\n",
    "            )\n",
    "            tif_to_png(school_path, tif_filename)"
   ]
  },
  {
   "cell_type": "markdown",
   "metadata": {},
   "source": [
    "Convert each building TIF to png for use in Roboflow inference"
   ]
  },
  {
   "cell_type": "code",
   "execution_count": 3,
   "metadata": {},
   "outputs": [],
   "source": [
    "from PIL import Image\n",
    "\n"
   ]
  },
  {
   "cell_type": "code",
   "execution_count": null,
   "metadata": {},
   "outputs": [],
   "source": [
    "    "
   ]
  },
  {
   "cell_type": "code",
   "execution_count": null,
   "metadata": {},
   "outputs": [],
   "source": []
  }
 ],
 "metadata": {
  "kernelspec": {
   "display_name": "Python 3",
   "language": "python",
   "name": "python3"
  },
  "language_info": {
   "codemirror_mode": {
    "name": "ipython",
    "version": 3
   },
   "file_extension": ".py",
   "mimetype": "text/x-python",
   "name": "python",
   "nbconvert_exporter": "python",
   "pygments_lexer": "ipython3",
   "version": "3.12.8"
  }
 },
 "nbformat": 4,
 "nbformat_minor": 2
}
